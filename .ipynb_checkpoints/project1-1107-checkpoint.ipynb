{
 "cells": [
  {
   "cell_type": "code",
   "execution_count": 7,
   "metadata": {},
   "outputs": [],
   "source": [
    "#imports\n",
    "# read OS files\n",
    "import os\n",
    "from dotenv import load_dotenv\n",
    "from pathlib import Path\n",
    "# import pandas to use\n",
    "import pandas as pd\n",
    "# import graphic 'engines'\n",
    "# note to self : matplotlib is not required if you are including hvplot\n",
    "#import matplotlib.pyplot as plt\n",
    "# initalize the panel for plotly\n",
    "import panel as pn\n",
    "pn.extension('plotly') # must be loaded before hvplot, in order for pn to be loaded, you have to import panel\n",
    "import hvplot.pandas\n",
    "import plotly.express as px\n",
    "#note to self: matplotlib is not required if you are including hvplot\n",
    "#%matplotlib inline\n"
   ]
  },
  {
   "cell_type": "code",
   "execution_count": 9,
   "metadata": {},
   "outputs": [],
   "source": [
    "# first, going to look for api's to connect for data of bitcoin, market indexes, and gold\n",
    "# read in your API keys file\n",
    "# read in the API key... \n",
    "\n",
    "# Read the Mapbox API key\n",
    "load_dotenv()\n",
    "mapbox_token = os.getenv(\"MAPBOX_API_KEY\")\n",
    "# deciding on... for btc data \n",
    "# https://github.com/n0shake/Public-APIs#bitcoinbitcoin-wallets\n",
    "# inspiration from: https://www.kaggle.com/sudalairajkumar/cryptocurrencypricehistory\n",
    "# https://cointelegraph.com/news/correlation-between-bitcoin-price-and-stocks-reaches-a-new-all-time-high\n",
    "# https://cointelegraph.com/news/bitcoins-correlation-with-gold-is-weakening-says-new-kraken-report\n",
    "#path forward is: find data via api, then utilize pandas"
   ]
  },
  {
   "cell_type": "code",
   "execution_count": null,
   "metadata": {},
   "outputs": [],
   "source": []
  }
 ],
 "metadata": {
  "kernelspec": {
   "display_name": "Python [conda env:pyvizenv]",
   "language": "python",
   "name": "conda-env-pyvizenv-py"
  },
  "language_info": {
   "codemirror_mode": {
    "name": "ipython",
    "version": 3
   },
   "file_extension": ".py",
   "mimetype": "text/x-python",
   "name": "python",
   "nbconvert_exporter": "python",
   "pygments_lexer": "ipython3",
   "version": "3.7.7"
  }
 },
 "nbformat": 4,
 "nbformat_minor": 4
}
