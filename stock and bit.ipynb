{
 "cells": [
  {
   "cell_type": "code",
   "execution_count": 49,
   "metadata": {},
   "outputs": [],
   "source": [
    "import pandas as pd"
   ]
  },
  {
   "cell_type": "markdown",
   "metadata": {},
   "source": [
    "<h6> <p style=\"color:blue;\"> We will now set up to see if it is 'list like'\n",
    "Objects that are considered list-like are for example Python lists, tuples, sets, NumPy arrays, and Pandas Series.\n",
    "this is prefered when we are going to use the pandas datareader which will set us up with a pandas series </h6>"
   ]
  },
  {
   "cell_type": "code",
   "execution_count": 47,
   "metadata": {},
   "outputs": [
    {
     "name": "stdout",
     "output_type": "stream",
     "text": [
      "Here is our S&P500 data\n",
      "              sp500\n",
      "DATE               \n",
      "2010-11-22  1197.84\n",
      "2010-11-23  1180.73\n",
      "2010-11-24  1198.35\n",
      "2010-11-25      NaN\n",
      "2010-11-26  1189.40\n",
      "...             ...\n",
      "2020-11-12  3537.01\n",
      "2020-11-13  3585.15\n",
      "2020-11-16  3626.91\n",
      "2020-11-17  3609.53\n",
      "2020-11-18  3567.79\n",
      "\n",
      "[2608 rows x 1 columns]\n"
     ]
    },
    {
     "data": {
      "image/png": "[encoded data removed]",
      "text/plain": [
       "<Figure size 432x288 with 2 Axes>"
      ]
     },
     "metadata": {
      "needs_background": "light"
     },
     "output_type": "display_data"
    }
   ],
   "source": [
    "pd.core.common.is_list_like = pd.api.types.is_list_like\n",
    "\n",
    "# use the datareader to extract data from Internet sources into a pandas DataFrame\n",
    "# you will probably need to: pip install pandas_datareader\n",
    "\n",
    "import pandas_datareader.data as web\n",
    "\n",
    "# lets set up our data periods: S&P500 stock prices for the last ten years.: 11/18/2010 thru 11/18/2020\n",
    "# https://pandas.pydata.org/pandas-docs/stable/user_guide/timeseries.html\n",
    "\n",
    "import datetime\n",
    "start = datetime.datetime(2010, 11, 18)\n",
    "end = datetime.datetime(2020, 11, 18)\n",
    "\n",
    "\n",
    "# we're going to use FRED: Federal Reserve Economic Data, utilizing datareader\n",
    "# https://pydata.github.io/pandas-datareader/stable/remote_data.html#remote-data-fred\n",
    "# get the data in a Pandas Series that we call SP500 by using web.DataReader and \n",
    "# specifying the series name (i.e. sp500) and the provider (i.e. fred)\n",
    "\n",
    "SP500 = web.DataReader(['sp500'], 'fred', start, end)\n",
    "print(f\"Here is our S&P500 data\")\n",
    "print (SP500)\n",
    "\n",
    "# lets use another cool library to support our call out to get data\n",
    "# 'requests' is the de facto standard for making HTTP requests in Python. \n",
    "# It abstracts the complexities of making requests behind a beautiful,\n",
    "# simple API so that you can focus on interacting with services and consuming data in your application\n",
    "\n",
    "# retrieve BTC pricing : https://financialmodelingprep.com/developer/docs/cryptocurrency-historical-data-api/\n",
    "\n",
    "import requests\n",
    "BTCUSD = requests.get('https://financialmodelingprep.com/api/v3/historical-price-full/crypto/BTCUSD?apikey=a600e12583504fce5b19ef091e7cff6f')\n",
    "\n",
    "\n",
    "# you’ll see that it is actually serialized JSON content. \n",
    "\n",
    "BTCUSD = BTCUSD.json()\n",
    "BTCUSD = BTCUSD['historical']\n",
    "\n",
    "# if we were to print(BTCUSD) , itll show the list of dictionaries. \n",
    "#  each element in the list is a different day containing Bitcoin prices. \n",
    "# BTC prices are stored under the key close.\n",
    "\n",
    "BTC = pd.DataFrame.from_dict(BTCUSD)\n",
    "BTC.set_index('date',inplace=True)\n",
    "BTC = BTC[['close']]\n",
    "BTC.columns = ['BTC']\n",
    "SP500BTC = BTC.merge(SP500,how='inner',right_index = True, left_index=True)\n",
    "SP500BTC.dropna(inplace=True)\n",
    "correlation = SP500BTC.corr()\n",
    "correlation\n",
    "# print(f\" this is our correlation\")\n",
    "# dont need ?\n",
    "from statsmodels import api as sm\n",
    "import matplotlib.pyplot as plt\n",
    "# print graph \n",
    "sm.graphics.plot_corr(correlation,xnames=list(correlation.columns))\n",
    "plt.show()\n",
    "# end print\n",
    "#statistically significant?\n",
    "# from scipy.stats import linregress\n",
    "# linregress(SP500BTC['sp500'],SP500BTC['BTC'])\n",
    "# use command / to select a bunch of stuff to make comments"
   ]
  },
  {
   "cell_type": "code",
   "execution_count": null,
   "metadata": {},
   "outputs": [],
   "source": []
  }
 ],
 "metadata": {
  "kernelspec": {
   "display_name": "Python [conda env:root] *",
   "language": "python",
   "name": "conda-root-py"
  },
  "language_info": {
   "codemirror_mode": {
    "name": "ipython",
    "version": 3
   },
   "file_extension": ".py",
   "mimetype": "text/x-python",
   "name": "python",
   "nbconvert_exporter": "python",
   "pygments_lexer": "ipython3",
   "version": "3.8.5"
  }
 },
 "nbformat": 4,
 "nbformat_minor": 4
}
