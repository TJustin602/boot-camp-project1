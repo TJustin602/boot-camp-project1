{
 "cells": [
  {
   "cell_type": "markdown",
   "metadata": {},
   "source": [
    "## Jupyter Notebook describing the data exploration and cleanup process for project-1.\n",
    "\n",
    "### Data exploration:\n",
    "\n",
    "## for bitcoin pricing. I will be using the CoinGecko API wrapper:  https://github.com/man-c/pycoingecko \"SDK\"/API\n",
    "\n",
    "### Installation\n",
    "\n",
    "PyPI\n",
    "\n",
    "# pip install pycoingecko\n",
    "\n",
    "or from source:\n",
    "\n",
    "git clone https://github.com/man-c/pycoingecko.git\n",
    "cd pycoingecko\n",
    "python3 setup.py install\n",
    "\n",
    "Usage\n",
    "\n",
    "## from pycoingecko import CoinGeckoAPI\n",
    "cg = CoinGeckoAPI()\n",
    "Examples\n",
    "\n",
    "The required parameters for each endpoint are defined as required (mandatory) parameters for the corresponding functions. Any optional parameters can be also passed using same names, as defined in CoinGecko API doc (https://www.coingecko.com/api/docs/v3)\n",
    "\n",
    "Lists are also supported as input for multiple-valued comma-separated parameters (e.g. see /simple/price usage examples).\n",
    "\n",
    "Usage examples:\n",
    "\n",
    "## /simple/price endpoint with the required parameters\n",
    ">>> cg.get_price(ids='bitcoin', vs_currencies='usd')\n",
    "{'bitcoin': {'usd': 3462.04}}\n",
    "\n"
   ]
  },
  {
   "cell_type": "markdown",
   "metadata": {},
   "source": [
    "## for stock market \n",
    "I will use the Aplaca SDK\n",
    "## for gold \n",
    "I will use the quandl API\n",
    "\n",
    "# data cleanup:\n",
    "will put data into data frame(s) \n",
    "align / organize and dates with the categorie\n"
   ]
  },
  {
   "cell_type": "code",
   "execution_count": null,
   "metadata": {},
   "outputs": [],
   "source": []
  }
 ],
 "metadata": {
  "kernelspec": {
   "display_name": "Python 3",
   "language": "python",
   "name": "python3"
  },
  "language_info": {
   "codemirror_mode": {
    "name": "ipython",
    "version": 3
   },
   "file_extension": ".py",
   "mimetype": "text/x-python",
   "name": "python",
   "nbconvert_exporter": "python",
   "pygments_lexer": "ipython3",
   "version": "3.8.5"
  }
 },
 "nbformat": 4,
 "nbformat_minor": 4
}
